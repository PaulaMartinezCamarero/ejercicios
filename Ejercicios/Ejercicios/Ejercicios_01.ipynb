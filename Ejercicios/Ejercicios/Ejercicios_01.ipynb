{
 "cells": [
  {
   "cell_type": "markdown",
   "metadata": {
    "jp-MarkdownHeadingCollapsed": true
   },
   "source": [
    "<img style=\"float:left\" width=\"30%\" src=\"pics/escudo_COLOR_1L_DCHA.png\">\n",
    "<img style=\"float:right\" width=\"8%\" src=\"pics/PythonLogo.svg\">\n",
    "<br style=\"clear:both;\">\n",
    "\n",
    "# SISTEMAS INTELIGENTES APLICADOS A LA SALUD\n",
    "\n",
    "\n",
    "\n",
    "<h2 style=\"display: inline-block; padding: 4mm; padding-left: 2em; background-color: navy; line-height: 1.3em; color: white; border-radius: 10px;\">Repaso de Python</h2>\n",
    "<br style=\"clear:both;\">\n",
    "<h2 style=\"display: inline-block; padding: 4mm; padding-left: 2em; background-color: orange; line-height: 1.3em; color: white; border-radius: 10px;\">Ejercicios propuestos</h2>\n",
    "\n",
    "## Docente\n",
    "\n",
    " - **David García García**"
   ]
  },
  {
   "cell_type": "markdown",
   "metadata": {},
   "source": [
    "<h1 class=\"jumbo\">Ejercicios y retos   <a id=\"exercises\"></a><a href=\"#index\"><i class=\"fa fa-list-alt\" aria-hidden=\"true\"></i></a></h1>"
   ]
  },
  {
   "cell_type": "markdown",
   "metadata": {},
   "source": [
    "<div class=\"alert alert-success\">\n",
    "   Crea un repositorio en <b>GitHub</b> donde puedas incluir este notebook. A medida que vayas realizando los diferentes ejercicios realiza los <b>commit</b> correspondientes para tener monitorizado todo el proceso de desarrollo de los ejercicios.\n",
    "</div>"
   ]
  },
  {
   "cell_type": "markdown",
   "metadata": {},
   "source": [
    "### Ejercicio 1\n",
    "Calcular los ceros de una parábola.\n",
    "\n",
    "Dados los valores $a$, $b$, $c$ de un polinomio de segundo grado: $ax^2+bx+c$, encontrar los valores de $x$ para los que el polinomio se evalúa a cero: \n",
    "$$x=\\frac{-b\\pm\\sqrt{b^2-4ac}}{2a}$$"
   ]
  },
  {
   "cell_type": "code",
   "execution_count": null,
   "metadata": {},
   "outputs": [],
   "source": [
    "a = 2\n",
    "b = 3\n",
    "c = 5\n",
    " # ojo con las raíces de números negativos (aunque podrían usarse números complejos)\n",
    " ## AQUÍ EL CÓDIGO PARA CALCULAR LOS VALORES DE x "
   ]
  },
  {
   "cell_type": "markdown",
   "metadata": {},
   "source": [
    "### Ejercicio 2\n",
    "\n",
    "Cómo utilizarías el acceso indexado a listas para obtener el valor 3 a partir de las siguiente listas?\n",
    "```python\n",
    "lista1 = [1, 2, 3, 4]\n",
    "lista2 = [1, [2, [3, [4]]]]\n",
    "lista3 = [[[[1], 2], 3], 4]\n",
    "lista4 = [[1, 2],[[3], 4]]\n",
    "lista5 = [[[1], [2], [3], [4]]]\n",
    "lista6 = [[[[1]]], [[2]], [3], 4]\n",
    "lista7 = [[[1], [[2, 3], 4]]]\n",
    "```"
   ]
  },
  {
   "cell_type": "code",
   "execution_count": null,
   "metadata": {},
   "outputs": [],
   "source": [
    "lista1 = [1, 2, 3, 4]\n",
    "# AQUÍ EL CÓDIGO PARA RECUPERAR EL VALOR 3"
   ]
  },
  {
   "cell_type": "code",
   "execution_count": null,
   "metadata": {},
   "outputs": [],
   "source": [
    "lista2 = [1, [2, [3, [4]]]]\n",
    "# AQUÍ EL CÓDIGO PARA RECUPERAR EL VALOR 3"
   ]
  },
  {
   "cell_type": "code",
   "execution_count": null,
   "metadata": {},
   "outputs": [],
   "source": [
    "lista3 = [[[[1], 2], 3], 4]\n",
    "# AQUÍ EL CÓDIGO PARA RECUPERAR EL VALOR 3"
   ]
  },
  {
   "cell_type": "code",
   "execution_count": null,
   "metadata": {},
   "outputs": [],
   "source": [
    "lista4 = [[1, 2],[[3], 4]]\n",
    "# AQUÍ EL CÓDIGO PARA RECUPERAR EL VALOR 3"
   ]
  },
  {
   "cell_type": "code",
   "execution_count": null,
   "metadata": {},
   "outputs": [],
   "source": [
    "lista5 = [[[1], [2], [3], [4]]]\n",
    "# AQUÍ EL CÓDIGO PARA RECUPERAR EL VALOR 3"
   ]
  },
  {
   "cell_type": "code",
   "execution_count": null,
   "metadata": {},
   "outputs": [],
   "source": [
    "lista6 = [[[[1]]], [[2]], [3], 4]\n",
    "# AQUÍ EL CÓDIGO PARA RECUPERAR EL VALOR 3"
   ]
  },
  {
   "cell_type": "code",
   "execution_count": null,
   "metadata": {},
   "outputs": [],
   "source": [
    "lista7 = [[[1], [[2, 3], 4]]]\n",
    "# AQUÍ EL CÓDIGO PARA RECUPERAR EL VALOR 3"
   ]
  },
  {
   "cell_type": "markdown",
   "metadata": {},
   "source": [
    "### Ejercicio 3\n",
    "Sumar dos vectores representados como listas. Si los vectores son $\\vec{v_1}=(2,3)$ y $\\vec{v_2}=(-3,1)$ el resultado sería $\\vec{v_1}+\\vec{v_2}=(-1,4)$"
   ]
  },
  {
   "cell_type": "code",
   "execution_count": null,
   "metadata": {},
   "outputs": [],
   "source": [
    "vec1 = [4, 8, 10]\n",
    "vec2 = [1, 6, -2]\n",
    "# AQUÍ EL CÓDIGO PARA CALCULAR vec1 + vec2"
   ]
  },
  {
   "cell_type": "markdown",
   "metadata": {},
   "source": [
    "### Ejercicio 4 \n",
    "Sumar dos vectores representados como arrays de `numpy`."
   ]
  },
  {
   "cell_type": "code",
   "execution_count": null,
   "metadata": {},
   "outputs": [],
   "source": [
    "vec1 = np.array([4, 8, 10])\n",
    "vec2 = np.array([1, 6, -2])\n",
    "# AQUÍ EL CÓDIGO PARA CALCULAR vec1 + vec2"
   ]
  },
  {
   "cell_type": "markdown",
   "metadata": {},
   "source": [
    "### Ejercicio 5\n",
    "Calcular la norma de un vector representado como array de numpy.\n",
    "\n",
    "Dado un vector $\\vec{v}=(x_1, x_2, \\ldots, x_n)$ calcular: \n",
    "$$\\|x\\|=\\sqrt{\\sum_{i=1}^n x_i^2}$$\n",
    "\n",
    "Si el vector es $\\vec{v}=(9,6,2)$, el resultado sería $11$"
   ]
  },
  {
   "cell_type": "code",
   "execution_count": null,
   "metadata": {},
   "outputs": [],
   "source": [
    "vec = np.array([5, 8, -3])\n",
    " # AQUÍ EL CÓDIGO PARA CALCULAR LA NORMA DE vec"
   ]
  },
  {
   "cell_type": "markdown",
   "metadata": {},
   "source": [
    "### Ejercicio 6\n",
    "Comprobar que un elemento pertenece a una lista. Si el elemento a buscar es 3 y la lista es <kbd>[4, 7, 9]</kbd>, el resultado sería <kbd>False</kbd>, en cambio para la lista <kbd>[4, 6, 3, 2]</kbd>, el resultado sería <kbd>True</kbd>.\n",
    "\n",
    "<a class=\"label label-info\" style=\"padding-top: .5em\" type=\"button\" data-toggle=\"collapse\" data-target=\"#collapsePista00\">\n",
    "    <i class=\"fa fa-info-circle\" aria-hidden=\"true\"></i> Pista\n",
    "</a>\n",
    "\n",
    "  <div class=\"card card-body\" style=\"-moz-border-bottom-colors: none; -moz-border-left-colors: none; -moz-border-right-colors: none; -moz-border-top-colors: none; background-color: #fefef1; border-bottom-right-radius: 12px; border-color: #f7a600; border-style: solid; border-width: 1px 1px 1px 5px; box-shadow: 2px 3px 5px #ccc; color: #222; display: table; line-height: 1.4em; margin: 10px 20px 20px; overflow: hidden; padding: 10px 16px;\">\n",
    "      El operador <kbd>in</kbd> puede utilizarse para comprobar que un elemento está dentro de una colección. \n",
    "</div>"
   ]
  },
  {
   "cell_type": "code",
   "execution_count": null,
   "metadata": {},
   "outputs": [],
   "source": [
    "lista = [5, 8, 9, 10]\n",
    "elto = 9\n",
    " # AQUÍ EL CÓDIGO"
   ]
  },
  {
   "cell_type": "markdown",
   "metadata": {},
   "source": [
    "### Ejercicio 7\n",
    "Comprobar que todos los elementos de una lista son iguales. Una lista como <kbd>[4, 4, 4]</kbd> daría <kbd>True</kbd>, una lista como <kbd>[1, 1, 1, 2]</kbd> daría <kbd>False</kbd>. \n",
    "\n",
    "<a class=\"label label-info\" style=\"padding-top: .5em\" type=\"button\" data-toggle=\"collapse\" data-target=\"#collapsePista01\">\n",
    "    <i class=\"fa fa-info-circle\" aria-hidden=\"true\"></i> Pista\n",
    "</a>\n",
    "\n",
    "  <div class=\"card card-body\" style=\"-moz-border-bottom-colors: none; -moz-border-left-colors: none; -moz-border-right-colors: none; -moz-border-top-colors: none; background-color: #fefef1; border-bottom-right-radius: 12px; border-color: #f7a600; border-style: solid; border-width: 1px 1px 1px 5px; box-shadow: 2px 3px 5px #ccc; color: #222; display: table; line-height: 1.4em; margin: 10px 20px 20px; overflow: hidden; padding: 10px 16px;\">\n",
    "    Puedes utilizar la lista para crear un array de numpy y aprovecharte del broadcasting. \n",
    "</div>"
   ]
  },
  {
   "cell_type": "code",
   "execution_count": null,
   "metadata": {},
   "outputs": [],
   "source": [
    "lista = [5, 5, 5, 5]\n",
    " # AQUÍ EL CÓDIGO"
   ]
  },
  {
   "cell_type": "code",
   "execution_count": null,
   "metadata": {},
   "outputs": [],
   "source": [
    "any([False, True])"
   ]
  },
  {
   "cell_type": "markdown",
   "metadata": {},
   "source": [
    "### Ejercicio 8\n",
    "Dada una secuencia de bases de una porción de ADN, representada como una cadena, calcular el [porcentaje GC](https://es.wikipedia.org/wiki/Contenido_GC).\n",
    "\n",
    "<a class=\"label label-info\" style=\"padding-top: .5em\" type=\"button\" data-toggle=\"collapse\" data-target=\"#collapsePista02\">\n",
    "    <i class=\"fa fa-info-circle\" aria-hidden=\"true\"></i> Pista\n",
    "</a>\n",
    "  \n",
    "  <div class=\"card card-body\" style=\"-moz-border-bottom-colors: none; -moz-border-left-colors: none; -moz-border-right-colors: none; -moz-border-top-colors: none; background-color: #fefef1; border-bottom-right-radius: 12px; border-color: #f7a600; border-style: solid; border-width: 1px 1px 1px 5px; box-shadow: 2px 3px 5px #ccc; color: #222; display: table; line-height: 1.4em; margin: 10px 20px 20px; overflow: hidden; padding: 10px 16px;\">\n",
    "      Recuerda lo que hacía el método <kbd>count</kbd>, si no lo recuerdas, puedes usar <kbd>help(str.count)</kbd>.\n",
    "</div>"
   ]
  },
  {
   "cell_type": "code",
   "execution_count": null,
   "metadata": {},
   "outputs": [],
   "source": [
    "adn = \"AAGCATCGTGTCATGCATCG\"\n",
    "GC = '<Aquí el código solución>'"
   ]
  },
  {
   "cell_type": "markdown",
   "metadata": {},
   "source": [
    "### Ejercicio 9\n",
    "Comprobar que un número es capicúa, es decir, se lee lo mismo de izquierda a derecha que de derecha a izquierda. \n",
    "\n",
    "<a class=\"label label-info\" style=\"padding-top: .5em\" type=\"button\" data-toggle=\"collapse\" data-target=\"#collapsePista03\">\n",
    "    <i class=\"fa fa-info-circle\" aria-hidden=\"true\"></i> Pista\n",
    "</a>\n",
    "  \n",
    "  <div class=\"card card-body\" style=\"-moz-border-bottom-colors: none; -moz-border-left-colors: none; -moz-border-right-colors: none; -moz-border-top-colors: none; background-color: #fefef1; border-bottom-right-radius: 12px; border-color: #f7a600; border-style: solid; border-width: 1px 1px 1px 5px; box-shadow: 2px 3px 5px #ccc; color: #222; display: table; line-height: 1.4em; margin: 10px 20px 20px; overflow: hidden; padding: 10px 16px;\">\n",
    "      Utiliza el constructor de cadenas <kbd>str</kbd> para obtener una cadena a partir del número, y comprueba si la cadena obtenida es un palíndromo, es decir, es igual a su inversa.\n",
    "</div>"
   ]
  },
  {
   "cell_type": "code",
   "execution_count": null,
   "metadata": {},
   "outputs": [],
   "source": [
    "valor = 6941496\n",
    "# Aquí el código"
   ]
  },
  {
   "cell_type": "markdown",
   "metadata": {},
   "source": [
    "### Ejercicio 10\n",
    "\n",
    "Dada la siguiente estructura de datos:"
   ]
  },
  {
   "cell_type": "code",
   "execution_count": null,
   "metadata": {
    "scrolled": true
   },
   "outputs": [],
   "source": [
    "datos = [{'v1': 'g1', 'v2': (3.1415, 2.7118, {'f': 'a/a=1'}) }, \n",
    "         {'v1': 'g2', 'v2': (-3.1415, -2.7118,  {'f': 'E=mc^2'}) }, \n",
    "         {'v1': 'g3', 'v2': (0, 1, {'f': 'e^{iπ}-1=0'}) },\n",
    "        ]\n",
    "datos"
   ]
  },
  {
   "cell_type": "markdown",
   "metadata": {},
   "source": [
    "¿Cómo accederías al valor `'g1'`?"
   ]
  },
  {
   "cell_type": "code",
   "execution_count": null,
   "metadata": {},
   "outputs": [],
   "source": []
  },
  {
   "cell_type": "markdown",
   "metadata": {},
   "source": [
    "¿Cómo accederías al valor `3.1415`?"
   ]
  },
  {
   "cell_type": "code",
   "execution_count": null,
   "metadata": {},
   "outputs": [],
   "source": []
  },
  {
   "cell_type": "markdown",
   "metadata": {},
   "source": [
    "¿Cómo accederías al valor `-2.7118`?"
   ]
  },
  {
   "cell_type": "code",
   "execution_count": null,
   "metadata": {},
   "outputs": [],
   "source": []
  },
  {
   "cell_type": "markdown",
   "metadata": {},
   "source": [
    "¿Cómo accederías al valor `'e^{iπ}-1=0'`?"
   ]
  },
  {
   "cell_type": "code",
   "execution_count": null,
   "metadata": {},
   "outputs": [],
   "source": []
  },
  {
   "cell_type": "markdown",
   "metadata": {},
   "source": [
    "### Ejercicio 11\n",
    "\n",
    "Dada la siguiente estructura de datos:"
   ]
  },
  {
   "cell_type": "code",
   "execution_count": null,
   "metadata": {},
   "outputs": [],
   "source": [
    "datos = {'xyz': ['g1', (3.1415, 2.7118,  {'f': 'a/a=1'})], \n",
    "         'abc': ['g2', (-3.1415, -2.7118, {'f': 'E=mc^2'})], \n",
    "         'X11': ['g3', (0, 1, {'f': 'e^{iπ}-1=0'})],\n",
    "        }\n",
    "datos"
   ]
  },
  {
   "cell_type": "markdown",
   "metadata": {},
   "source": [
    "¿Cómo accederías al valor `'g1'`?"
   ]
  },
  {
   "cell_type": "code",
   "execution_count": null,
   "metadata": {},
   "outputs": [],
   "source": []
  },
  {
   "cell_type": "markdown",
   "metadata": {},
   "source": [
    "¿Cómo accederías al valor `3.1415`?"
   ]
  },
  {
   "cell_type": "code",
   "execution_count": null,
   "metadata": {},
   "outputs": [],
   "source": []
  },
  {
   "cell_type": "markdown",
   "metadata": {},
   "source": [
    "¿Cómo accederías al valor `-2.7118`?"
   ]
  },
  {
   "cell_type": "code",
   "execution_count": null,
   "metadata": {},
   "outputs": [],
   "source": []
  },
  {
   "cell_type": "markdown",
   "metadata": {},
   "source": [
    "¿Cómo accederías al valor `'e^{iπ}-1=0'`?"
   ]
  },
  {
   "cell_type": "code",
   "execution_count": null,
   "metadata": {},
   "outputs": [],
   "source": []
  }
 ],
 "metadata": {
  "kernelspec": {
   "display_name": "Python 3 (ipykernel)",
   "language": "python",
   "name": "python3"
  },
  "language_info": {
   "codemirror_mode": {
    "name": "ipython",
    "version": 3
   },
   "file_extension": ".py",
   "mimetype": "text/x-python",
   "name": "python",
   "nbconvert_exporter": "python",
   "pygments_lexer": "ipython3",
   "version": "3.12.4"
  }
 },
 "nbformat": 4,
 "nbformat_minor": 4
}
