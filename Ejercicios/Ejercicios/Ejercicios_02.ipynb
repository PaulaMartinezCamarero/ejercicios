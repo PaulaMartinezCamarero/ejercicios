{
 "cells": [
  {
   "cell_type": "markdown",
   "metadata": {},
   "source": [
    "<img style=\"float:left\" width=\"30%\" src=\"pics/escudo_COLOR_1L_DCHA.png\">\n",
    "<img style=\"float:right\" width=\"8%\" src=\"pics/PythonLogo.svg\">\n",
    "<br style=\"clear:both;\">\n",
    "\n",
    "# SISTEMAS INTELIGENTES APLICADOS A LA SALUD\n",
    "\n",
    "\n",
    "\n",
    "<h2 style=\"display: inline-block; padding: 4mm; padding-left: 2em; background-color: navy; line-height: 1.3em; color: white; border-radius: 10px;\">Repaso de Python</h2>\n",
    "<br style=\"clear:both;\">\n",
    "<h2 style=\"display: inline-block; padding: 4mm; padding-left: 2em; background-color: orange; line-height: 1.3em; color: white; border-radius: 10px;\">Ejercicios propuestos</h2>\n",
    "\n",
    "## Docente\n",
    "\n",
    " - **David García García**"
   ]
  },
  {
   "cell_type": "markdown",
   "metadata": {},
   "source": [
    "<h1 class=\"jumbo\">Ejercicios y retos   <a id=\"exercises\"></a><a href=\"#index\"><i class=\"fa fa-list-alt\" aria-hidden=\"true\"></i></a></h1>"
   ]
  },
  {
   "cell_type": "markdown",
   "metadata": {},
   "source": [
    "\n",
    "\n",
    "\n",
    "<div class=\"alert alert-success\">\n",
    "   Cada una de las funciones o modulos de funciones que se implementen en estos ejercicios deben ser incluidos en un archivo <b>ejercicio_x.py</b> (donde <b>x</b> es el número del ejercicio) y que se encuentre guardado en la carpeta <b>modules</b>. Para comprobar que funciona correctamente, incluye unicamente la celda de este notebook la importación correspondiente y el código que debes emplear para su ejecución.\n",
    "</div>\n",
    "\n",
    "\n",
    "<div class=\"alert alert-success\">\n",
    "   Te aconsejo que sigas empleando el repositorio en <b>GitHub</b> que has creado en los ejercicios anteriores. Puedes hacer commits de cada uno de los archivos que vas creando.\n",
    "</div>"
   ]
  },
  {
   "cell_type": "markdown",
   "metadata": {},
   "source": [
    "## Ejercicio 1\n",
    "\n",
    "Crear una función que calcule el número de [Fibonacci](https://en.wikipedia.org/wiki/Fibonacci_number) de la posición que se le pase.\n",
    "\n",
    "La sucesión de Fibonacci se calcula sumando los dos elementos previos, ej:\n",
    "- ```Fib(1) = 1```\n",
    "- ```Fib(2) = 1```\n",
    "- ```Fib(3) = 2```\n",
    "- ```Fib(4) = 3```\n",
    "- ```Fib(5) = 5```\n",
    "- ```Fib(6) = 8```\n",
    "- ```Fib(7) = 13```"
   ]
  },
  {
   "cell_type": "markdown",
   "metadata": {},
   "source": [
    "## Ejercicio 2\n",
    "\n",
    "Obtener el [h-index](https://en.wikipedia.org/wiki/H-index) de los investigadores de la Universidad de Burgos.\n",
    "\n",
    "Se ha obtenido de Google Académico la información de las publicaciones (y sus citas) de los investigadores de la UBU. Estos datos se encuentran almacenados en un diccionario cuya clave es el nombre y apellidos del investigador; por cada uno hay una lista de tuplas y cada tupla contiene:\n",
    "- Número de citas del artículo.\n",
    "- Nombre del artículo.\n",
    "- Año de publicación.\n",
    "\n",
    "Los artículos de cada investigador se encuentran ordenados en orden decreciente (por número de citas).\n",
    "\n",
    "Crear una función que calcule el h-index de un autor dado el nombre/apellidos y el diccionario de datos bibliográficos. Posteriormente llamar a esta función tantas veces como autores haya (recordar <kbd>set</kbd>) y mostrarlos.\n",
    "\n",
    "<span class=\"label label-info\"><i class=\"fa fa-info-circle\" aria-hidden=\"true\"></i> Info</span> La apertura del fichero y la carga del diccionario se suministra a continuación."
   ]
  },
  {
   "cell_type": "code",
   "execution_count": 50,
   "metadata": {},
   "outputs": [],
   "source": [
    "import pickle\n",
    "\n",
    "with open('data/dict_ubu_authors_data.pkl', 'rb') as f:\n",
    "    ubu_authors_data = pickle.load(f)\n",
    "\n",
    "# ESCRIBA SU CÓDIGO AQUÍ\n"
   ]
  },
  {
   "cell_type": "markdown",
   "metadata": {},
   "source": [
    "## Ejercicio 3\n",
    "\n",
    "Programar el juego del ahorcado.\n",
    "\n",
    "El objetivo es crear un juego que seleccione una palabra de forma aleatoria (que al menos tenga 5 letras), y el usuario pueda elegir letras del alfabeto para comprobar si están o no presentes en la palabra. En el archivo ```es_dic.py```se encuentra almacenadas todas las palabras del diccionario castellano con al menos tres letras.\n",
    "\n",
    "Para seleccionar una palabra aleatoria se puede utilizar: [<kbd>random.choice()</kbd>](https://docs.scipy.org/doc/numpy-1.14.0/reference/generated/numpy.random.choice.html)"
   ]
  },
  {
   "cell_type": "code",
   "execution_count": 1,
   "metadata": {},
   "outputs": [
    {
     "data": {
      "image/png": "[encoded data removed]",
      "text/plain": [
       "<IPython.core.display.Image object>"
      ]
     },
     "metadata": {},
     "output_type": "display_data"
    }
   ],
   "source": [
    "from IPython.display import Image, display, clear_output\n",
    "display(Image(filename='hangman/Hangman-{}.png'.format(4)))"
   ]
  },
  {
   "cell_type": "code",
   "execution_count": 2,
   "metadata": {},
   "outputs": [],
   "source": [
    "from IPython.display import Image, display, clear_output\n",
    "import random\n",
    "\n",
    "# Todas las palabras del castellano\n",
    "from data.es_dic import words\n",
    "\n",
    "def print_hangman (num):\n",
    "    '''\n",
    "    Muestra la horca en cada una de las 7 posibles posiciones.\n",
    "    \n",
    "    Parámetros\n",
    "    ----------\n",
    "    num : int\n",
    "        Posición: 0 es la inicial y la 6 es fin del juego.\n",
    "    \n",
    "    Returns\n",
    "    -------\n",
    "    None\n",
    "    '''\n",
    "    display(Image(filename='hangman/Hangman-{}.png'.format(num)))"
   ]
  },
  {
   "cell_type": "markdown",
   "metadata": {},
   "source": [
    "## Ejercicio 4\n",
    "\n",
    "Crea una función que compruebe si una cadena de texto que se le pasa es palíndromo (se lee igual de izquierda a derecha que de derecha a izquierda)."
   ]
  },
  {
   "cell_type": "code",
   "execution_count": 73,
   "metadata": {},
   "outputs": [],
   "source": []
  },
  {
   "cell_type": "markdown",
   "metadata": {},
   "source": [
    "## Ejercicio 5\n",
    "\n",
    "Crea una función que cuente el número de ocurrencias de una palabra en una lista. La función recibirá una lista y una palabra y devolverá el número de ocurrencias. Puedes probar la función y una vvez testeada, incluyela en un archivo ```.py```y accede correctamente desde este notebook a esa función.\n",
    "\n",
    "Utilizar dicha función para imprimir el número de repeticiones de cada elemento de la lista <kbd>words</kbd>."
   ]
  },
  {
   "cell_type": "code",
   "execution_count": 74,
   "metadata": {},
   "outputs": [],
   "source": [
    "with open('data/SW_script.txt', 'r') as f:\n",
    "    words = f.read().split()\n",
    "    "
   ]
  },
  {
   "cell_type": "markdown",
   "metadata": {},
   "source": [
    "## Ejercicio 6\n",
    "\n",
    "Haz una función que pase de decimal a romano. La entrada es un número, la salida es una cadena de texto.\n",
    "\n",
    "Trata de usar la descomposición en funciones que minimice la cantidad de código duplicado y maximice la comprensión del código."
   ]
  },
  {
   "cell_type": "markdown",
   "metadata": {},
   "source": [
    "##  Ejercicio 7\n",
    "Encontrar las palabras en castellano que tienen todas las vocales."
   ]
  },
  {
   "cell_type": "code",
   "execution_count": 76,
   "metadata": {},
   "outputs": [],
   "source": [
    "from data.es_dic import words\n"
   ]
  },
  {
   "cell_type": "markdown",
   "metadata": {},
   "source": [
    "##  Ejercicio 8\n",
    "Encontrar todas las palabras con más vocales que consonantes. Por ejemplo: abaco, cefalea, zueco. Y que tenga al menos dos vocales más que consonantes. Por ejemplo: neuroanatomia, obituario, usuario."
   ]
  },
  {
   "cell_type": "code",
   "execution_count": 77,
   "metadata": {},
   "outputs": [],
   "source": [
    "from data.es_dic import words\n",
    "\n"
   ]
  },
  {
   "cell_type": "markdown",
   "metadata": {},
   "source": [
    "##  Ejercicio 9\n",
    "Obtener el conjunto de todas las subcadenas de una cadena. Por ejemplo, para la cadena <kbd>\"1234\"</kbd>, se podría obtener algo como:\n",
    "<pre>\n",
    "{'', '1', '12', '123', '1234', '2', '23', '234', '3', '34', '4'}\n",
    "</pre>"
   ]
  },
  {
   "cell_type": "code",
   "execution_count": 78,
   "metadata": {},
   "outputs": [],
   "source": [
    "cadena = \"abcd\"\n",
    "\n"
   ]
  },
  {
   "cell_type": "markdown",
   "metadata": {},
   "source": [
    "##  Ejercicio 10\n",
    "Razonamiento genealógico. Utilizar las relaciones conocidas entre padres e hijos, para calcular relaciones más complejas: abuelos-nietos, tios-sobrinos, ...\n",
    "\n",
    "En la siguiente figura se muestra toda la información almacenada (los arcos representan relaciones paterno/materno-filiares, el color indica el género, y los nodos en gris, indican el fallecimiento de la persona).\n",
    "\n",
    "<img src=\"pics/family.gv.svg\">\n",
    "\n",
    "En el ejemplo que se carga en la siguiente celda, se definen cuatro relaciones: <kbd>es</kbd>, <kbd>es_padre_de</kbd>, <kbd>esta</kbd>, <kbd>nacio_en</kbd>. La información se almacena como tuplas en las que el primer elemento está relacionado con el tercero a través de la relación nombrada en el segundo elemento. Los valores del segundo elemento son:\n",
    "- Relaciones binarias: <kbd>es_padre_de</kbd> (tanto padre como madre), <kbd>nacio_en</kbd>\n",
    "- Relaciones unarias: <kbd>es</kbd> (hombre o mujer), <kbd>esta</kbd> (muerto).\n",
    "\n",
    "Algunos problemas que podrían plantearse resolver con esta <q>base de datos</q> son:\n",
    "- Obtener el nombre de todos los abuelos\n",
    "- Obtener el nombre de todos los abuelos vivos\n",
    "- Año de nacimiento y persona más joven\n",
    "- El nombre más largo de un padre varón \n",
    "- Añadir nuevas tuplas con conocimiento sobre quién es abuelo de quién <kbd>(<i style=\"font-family: serif\">x</i>, 'es_abuelo_de', <i style=\"font-family: serif\">y</i>)</kbd>\n",
    "- Añadir nuevas tuplas con información sobre hermanas <kbd>(<i style=\"font-family: serif\">x</i>, 'es_hermana_de', <i style=\"font-family: serif\">y</i>)</kbd>\n",
    "- Añadir nuevos hechos sobre quién es primo de quién <kbd>(<i style=\"font-family: serif\">x</i>, 'es_primo_de', <i style=\"font-family: serif\">y</i>)</kbd>\n",
    "- Añadir nuevos hechos sobre quién es tia de quién <kbd>(<i style=\"font-family: serif\">x</i>, 'es_tia_de', <i style=\"font-family: serif\">y</i>)</kbd>\n",
    "\n",
    "<span class=\"label label-warning\"><i class=\"fa fa-warning\" aria-hidden=\"true\"></i> ¡Cuidado!</span> no es un ejercicio fácil."
   ]
  },
  {
   "cell_type": "code",
   "execution_count": 1,
   "metadata": {},
   "outputs": [
    {
     "name": "stdout",
     "output_type": "stream",
     "text": [
      "The history saving thread hit an unexpected error (OperationalError('attempt to write a readonly database')).History will not be written to the database.\n",
      "{'esta', 'es_padre_de', 'es', 'nacio_en'}\n",
      "[('Francisco', 'es_padre_de', 'Enrique'), ('Teresa', 'es_padre_de', 'Gelo'), ('Enrique', 'es_padre_de', 'Victoria'), ('Manolo', 'es', 'hombre'), ('Vitorina', 'es', 'mujer'), ('Antonio', 'esta', 'muerto'), ('Ignacio', 'nacio_en', 1973), ('Antonia', 'nacio_en', 1966)]\n"
     ]
    }
   ],
   "source": [
    "from data.family import facts\n",
    "\n",
    "# Relaciones en el árbol\n",
    "print(set([ r for a,r,e in facts]))\n",
    "\n",
    "# Algunos hechos\n",
    "print(facts[::int(len(facts)/7)])\n"
   ]
  }
 ],
 "metadata": {
  "kernelspec": {
   "display_name": "Python 3 (ipykernel)",
   "language": "python",
   "name": "python3"
  },
  "language_info": {
   "codemirror_mode": {
    "name": "ipython",
    "version": 3
   },
   "file_extension": ".py",
   "mimetype": "text/x-python",
   "name": "python",
   "nbconvert_exporter": "python",
   "pygments_lexer": "ipython3",
   "version": "3.12.4"
  }
 },
 "nbformat": 4,
 "nbformat_minor": 4
}
